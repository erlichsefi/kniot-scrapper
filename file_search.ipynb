{
 "metadata": {
  "language_info": {
   "codemirror_mode": {
    "name": "ipython",
    "version": 3
   },
   "file_extension": ".py",
   "mimetype": "text/x-python",
   "name": "python",
   "nbconvert_exporter": "python",
   "pygments_lexer": "ipython3",
   "version": "3.6.9-final"
  },
  "orig_nbformat": 2,
  "kernelspec": {
   "name": "python36964bitkniotvenv4a74f45869624cfab5b95ca635a95006",
   "display_name": "Python 3.6.9 64-bit ('kniot': venv)"
  }
 },
 "nbformat": 4,
 "nbformat_minor": 2,
 "cells": [
  {
   "cell_type": "code",
   "execution_count": 22,
   "metadata": {},
   "outputs": [],
   "source": [
    "import pandas as pd\n",
    "import streamlit as st"
   ]
  },
  {
   "cell_type": "code",
   "execution_count": 23,
   "metadata": {},
   "outputs": [],
   "source": [
    "\n"
   ]
  },
  {
   "cell_type": "code",
   "execution_count": 24,
   "metadata": {},
   "outputs": [
    {
     "output_type": "execute_result",
     "data": {
      "text/plain": "                                       file  branch store    store name\ndate                                                                   \n2020-08-07 12:00:00  NULLPromo7290526500006             4  salachdabach\n2020-06-22 00:10:00  PriceFull7290526500006             4  salachdabach\n2020-06-22 00:10:00  PromoFull7290526500006             4  salachdabach\n2020-06-19 09:00:00      Price7290526500006             4  salachdabach\n2020-06-18 09:00:00      Price7290526500006            13  salachdabach",
      "text/html": "<div>\n<style scoped>\n    .dataframe tbody tr th:only-of-type {\n        vertical-align: middle;\n    }\n\n    .dataframe tbody tr th {\n        vertical-align: top;\n    }\n\n    .dataframe thead th {\n        text-align: right;\n    }\n</style>\n<table border=\"1\" class=\"dataframe\">\n  <thead>\n    <tr style=\"text-align: right;\">\n      <th></th>\n      <th>file</th>\n      <th>branch store</th>\n      <th>store name</th>\n    </tr>\n    <tr>\n      <th>date</th>\n      <th></th>\n      <th></th>\n      <th></th>\n    </tr>\n  </thead>\n  <tbody>\n    <tr>\n      <th>2020-08-07 12:00:00</th>\n      <td>NULLPromo7290526500006</td>\n      <td>4</td>\n      <td>salachdabach</td>\n    </tr>\n    <tr>\n      <th>2020-06-22 00:10:00</th>\n      <td>PriceFull7290526500006</td>\n      <td>4</td>\n      <td>salachdabach</td>\n    </tr>\n    <tr>\n      <th>2020-06-22 00:10:00</th>\n      <td>PromoFull7290526500006</td>\n      <td>4</td>\n      <td>salachdabach</td>\n    </tr>\n    <tr>\n      <th>2020-06-19 09:00:00</th>\n      <td>Price7290526500006</td>\n      <td>4</td>\n      <td>salachdabach</td>\n    </tr>\n    <tr>\n      <th>2020-06-18 09:00:00</th>\n      <td>Price7290526500006</td>\n      <td>13</td>\n      <td>salachdabach</td>\n    </tr>\n  </tbody>\n</table>\n</div>"
     },
     "metadata": {},
     "execution_count": 24
    }
   ],
   "source": [
    "df = load_data()\n",
    "df.head()"
   ]
  },
  {
   "cell_type": "code",
   "execution_count": 25,
   "metadata": {},
   "outputs": [],
   "source": [
    "#df.groupby(\"store name\")['branch store'].count().values"
   ]
  },
  {
   "cell_type": "code",
   "execution_count": 26,
   "metadata": {},
   "outputs": [
    {
     "output_type": "execute_result",
     "data": {
      "text/plain": "store name  date               \ndoralon     2019-09-05 08:16:00     1\n            2020-01-29 16:17:00     1\n            2020-01-29 16:19:00     1\n            2020-01-30 00:10:00     1\n            2020-01-30 00:12:00     1\n                                   ..\nyohananof   2020-07-22 22:00:00    25\n            2020-07-22 23:00:00    31\n            2020-07-23 00:10:00    41\n            2020-07-23 00:11:00    11\n            2020-07-23 00:30:00     2\nName: branch store, Length: 5788, dtype: int64"
     },
     "metadata": {},
     "execution_count": 26
    }
   ],
   "source": [
    "updates = df.groupby([\"store name\",'date'])['branch store'].count()#.plot()\n",
    "updates"
   ]
  },
  {
   "cell_type": "code",
   "execution_count": 36,
   "metadata": {
    "tags": []
   },
   "outputs": [
    {
     "output_type": "execute_result",
     "data": {
      "text/plain": "      branch store\n0                1\n1                1\n2                1\n3                1\n4                1\n...            ...\n5783            25\n5784            31\n5785            41\n5786            11\n5787             2\n\n[5788 rows x 1 columns]",
      "text/html": "<div>\n<style scoped>\n    .dataframe tbody tr th:only-of-type {\n        vertical-align: middle;\n    }\n\n    .dataframe tbody tr th {\n        vertical-align: top;\n    }\n\n    .dataframe thead th {\n        text-align: right;\n    }\n</style>\n<table border=\"1\" class=\"dataframe\">\n  <thead>\n    <tr style=\"text-align: right;\">\n      <th></th>\n      <th>branch store</th>\n    </tr>\n  </thead>\n  <tbody>\n    <tr>\n      <th>0</th>\n      <td>1</td>\n    </tr>\n    <tr>\n      <th>1</th>\n      <td>1</td>\n    </tr>\n    <tr>\n      <th>2</th>\n      <td>1</td>\n    </tr>\n    <tr>\n      <th>3</th>\n      <td>1</td>\n    </tr>\n    <tr>\n      <th>4</th>\n      <td>1</td>\n    </tr>\n    <tr>\n      <th>...</th>\n      <td>...</td>\n    </tr>\n    <tr>\n      <th>5783</th>\n      <td>25</td>\n    </tr>\n    <tr>\n      <th>5784</th>\n      <td>31</td>\n    </tr>\n    <tr>\n      <th>5785</th>\n      <td>41</td>\n    </tr>\n    <tr>\n      <th>5786</th>\n      <td>11</td>\n    </tr>\n    <tr>\n      <th>5787</th>\n      <td>2</td>\n    </tr>\n  </tbody>\n</table>\n<p>5788 rows × 1 columns</p>\n</div>"
     },
     "metadata": {},
     "execution_count": 36
    }
   ],
   "source": []
  },
  {
   "cell_type": "code",
   "execution_count": 38,
   "metadata": {},
   "outputs": [
    {
     "output_type": "execute_result",
     "data": {
      "text/plain": "<streamlit.delta_generator.DeltaGenerator at 0x7f6ac15c37f0>"
     },
     "metadata": {},
     "execution_count": 38
    }
   ],
   "source": [
    "import pandas as pd\n",
    "import numpy as np\n",
    "\n",
    "st.title('Files collected')\n",
    "\n",
    "\n",
    "\n",
    "data_load_state = st.text('Loading data...')\n",
    "df = load_data()\n",
    "updates = df.groupby([\"store name\",'date'])['branch store'].count()#.plot()\n",
    "data_load_state.text(\"Done! (using st.cache)\")\n",
    "\n",
    "st.subheader('Number of pickups by hour')\n",
    "st.line_chart(updates.reset_index()[['branch store']])\n",
    "\n",
    "\n",
    "# Some number in the range 0-23\n",
    "# hour_to_filter = st.slider('hour', 0, 23, 17)\n",
    "# filtered_data = data[data[DATE_COLUMN].dt.hour == hour_to_filter]\n",
    "\n",
    "# st.subheader('Map of all pickups at %s:00' % hour_to_filter)\n",
    "# st.map(filtered_data)"
   ]
  },
  {
   "cell_type": "code",
   "execution_count": null,
   "metadata": {},
   "outputs": [],
   "source": []
  }
 ]
}